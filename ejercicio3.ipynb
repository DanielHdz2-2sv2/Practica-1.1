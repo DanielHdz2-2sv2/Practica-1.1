{
  "nbformat": 4,
  "nbformat_minor": 0,
  "metadata": {
    "colab": {
      "name": "Tarea.ipynb",
      "provenance": [],
      "collapsed_sections": []
    },
    "kernelspec": {
      "name": "python3",
      "display_name": "Python 3"
    }
  },
  "cells": [
    {
      "cell_type": "markdown",
      "metadata": {
        "id": "2BAOqnJRcazw"
      },
      "source": [
        "Ejercicio 3. Escribir una funcion que reciba como argumentos el numero de horas y el costo por hora dejarlo.\n",
        "\n",
        "Como argumento predefinido en 150 la funcion debe de regresar el pago del empleado en un dıa, en una semana (5 diıas) y en un mes (20 dıas).\n"
      ]
    },
    {
      "cell_type": "code",
      "metadata": {
        "id": "OZURYJfBdP3O",
        "outputId": "20f0ec74-1522-4244-b709-318faafbec95",
        "colab": {
          "base_uri": "https://localhost:8080/"
        }
      },
      "source": [
        "#Funciones Horas = x, Pago por hora= y1,yt= pago por dia= 150, Dias=z, suponiendo que las horas laboradas son en un promedio de 9.\n",
        "x= 9\n",
        "y1=\"\"\n",
        "yt=150 \n",
        "z=( 1, 5 , 20)\n",
        "y= yt/x\n",
        "print(\"y1=\", y)\n",
        "#Lo que gana el empleado por hora son $16.666 "
      ],
      "execution_count": 18,
      "outputs": [
        {
          "output_type": "stream",
          "text": [
            "y1= 16.666666666666668\n",
            "\n"
          ],
          "name": "stdout"
        }
      ]
    },
    {
      "cell_type": "code",
      "metadata": {
        "id": "IOrl5_QLpp5I",
        "outputId": "07b227c0-0deb-4270-9f78-e392cf94d859",
        "colab": {
          "base_uri": "https://localhost:8080/"
        }
      },
      "source": [
        "#Teniendo el pago que recibe el empleado por hora . reafirmaremos que su ganancia por las horas nos de el total\n",
        "x=9\n",
        "y1=16.666666666666668\n",
        "yt=\"\"\n",
        "yt=x*y1\n",
        "print (\"yt:\", yt)\n",
        "#ES la ganancia que se tiene por dia"
      ],
      "execution_count": 21,
      "outputs": [
        {
          "output_type": "stream",
          "text": [
            "yt 150.0\n"
          ],
          "name": "stdout"
        }
      ]
    },
    {
      "cell_type": "code",
      "metadata": {
        "id": "c1OEtpWl4V_4",
        "outputId": "86e5f04d-d30a-46e4-c8a1-510e2bc7e33c",
        "colab": {
          "base_uri": "https://localhost:8080/"
        }
      },
      "source": [
        "#Ahora se cehcara el pago por dias que tiene el empleado a partir de z(z1=5, z2=20)\n",
        "x=9\n",
        "yt= 150\n",
        "z=(5, 20)\n",
        "z1=\"\"\n",
        "z2=\"\"\n",
        "z1=5*150\n",
        "z2=20*150\n",
        "print(\"z1:\",z1)\n",
        "print (\"z2:\",z2)\n",
        "#Se tienen la ganancias por 5 y 20 diaz."
      ],
      "execution_count": 26,
      "outputs": [
        {
          "output_type": "stream",
          "text": [
            "z1: 750\n",
            "z2: 3000\n"
          ],
          "name": "stdout"
        }
      ]
    },
    {
      "cell_type": "code",
      "metadata": {
        "id": "J3zp95YU5PJr"
      },
      "source": [
        ""
      ],
      "execution_count": null,
      "outputs": []
    }
  ]
}