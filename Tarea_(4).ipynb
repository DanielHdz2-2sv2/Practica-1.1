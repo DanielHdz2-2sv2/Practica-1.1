{
  "nbformat": 4,
  "nbformat_minor": 0,
  "metadata": {
    "colab": {
      "name": "Tarea (4).ipynb",
      "provenance": [],
      "collapsed_sections": []
    },
    "kernelspec": {
      "name": "python3",
      "display_name": "Python 3"
    }
  },
  "cells": [
    {
      "cell_type": "markdown",
      "metadata": {
        "id": "2XMnM9HBEb6F"
      },
      "source": [
        "4:Escribir el c\u0013odigo de una calculadora, que inicialmente muestre el menu y dependiendo de la opcion elegida por el usuario se desarrolle la operacion, observe que en la division el denominador\n",
        "no puede ser cero, en caso que sea así, debe de entrar en un bucle while que este leyendo el denominador de nuevo hasta que este sea distinto de cero\n",
        "a. suma\n",
        "b. resta\n",
        "c. multiplicacion\n",
        "d. divisi\u0013on\n",
        "Introduzca una opci\u0013on:\n",
        "5.\n"
      ]
    },
    {
      "cell_type": "code",
      "metadata": {
        "id": "BJCF_CT-MkJ2"
      },
      "source": [
        ""
      ],
      "execution_count": null,
      "outputs": []
    },
    {
      "cell_type": "code",
      "metadata": {
        "id": "idVGwWCaEvMg",
        "outputId": "75434f81-4948-42ab-cb06-41ab3323bd94",
        "colab": {
          "base_uri": "https://localhost:8080/",
          "height": 129
        }
      },
      "source": [
        "def Menu():\n",
        "    \"Funcion que Muestra el Menu\"\n",
        "    \n",
        "Print( (Calculadora)\n",
        "\n",
        " (Menu)\n",
        "(1)Suma\n",
        "2:Resta\n",
        "3:Multiplicacion\n",
        "4:Division\n",
        "5:Salir )\n",
        "\n",
        "def Calculadora():\n",
        "    \n",
        " print (   Menu()\n",
        "    opc = int(input(\"Selecione Opcion\\n\"))\n",
        "    while (opc >0 and opc <5):\n",
        "        x = int(input(\"Ingrese Numero\\n\"))\n",
        "        y = int(input(\"Ingrese Otro Numero\\n\"))\n",
        "        if (opc==1):\n",
        "            print \"La Suma es:\", x+y\n",
        "            opc = int(input(\"Selecione Opcion\\n\"))\n",
        "        elif(opc==2):\n",
        "            print \"La Resta es:\",x-y\n",
        "            opc = int(input(\"Selecione Opcion\\n\"))\n",
        "        elif(opc==3):\n",
        "            print \"La Multiplicacion es:\",x*y\n",
        "            opc = int(input(\"Selecione Opcion\\n\"))\n",
        "        elif(opc==4):\n",
        "            try:\n",
        "              print \"La Division es:\", x/y\n",
        "              opc = int(input(\"Selecione Opcion\\n\"))\n",
        "            except ZeroDivisionError:\n",
        "              print \"No se Permite la Division Entre 0\"\n",
        "              opc = int(input(\"Selecione Opcion\\n\"))\n",
        "Calculadora())"
      ],
      "execution_count": 11,
      "outputs": [
        {
          "output_type": "error",
          "ename": "SyntaxError",
          "evalue": "ignored",
          "traceback": [
            "\u001b[0;36m  File \u001b[0;32m\"<ipython-input-11-bf8145405d6b>\"\u001b[0;36m, line \u001b[0;32m7\u001b[0m\n\u001b[0;31m    (1)Suma\u001b[0m\n\u001b[0m          ^\u001b[0m\n\u001b[0;31mSyntaxError\u001b[0m\u001b[0;31m:\u001b[0m invalid syntax\n"
          ]
        }
      ]
    },
    {
      "cell_type": "code",
      "metadata": {
        "id": "GAL_2Nzpyba3"
      },
      "source": [
        ""
      ],
      "execution_count": null,
      "outputs": []
    }
  ]
}