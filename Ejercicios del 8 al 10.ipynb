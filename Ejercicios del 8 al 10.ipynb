{
  "nbformat": 4,
  "nbformat_minor": 0,
  "metadata": {
    "colab": {
      "name": "Tarea 1(8*10).ipynb",
      "provenance": [],
      "collapsed_sections": []
    },
    "kernelspec": {
      "name": "python3",
      "display_name": "Python 3"
    }
  },
  "cells": [
    {
      "cell_type": "markdown",
      "metadata": {
        "id": "i1nNJwfpR8co"
      },
      "source": [
        "8. Escribir un programa que pida al usuario un n´umero entero y muestre en pantalla un tr´ıangulo\n",
        "rect´angulo el que se muestra. Ejemplo: si el usuario ha introducido 4 se debe de mostrar el\n",
        "siguiente patron\n",
        "*\n",
        "\n",
        "\n",
        "**\n",
        "\n",
        "***\n",
        "\n",
        "****\n"
      ]
    },
    {
      "cell_type": "code",
      "metadata": {
        "id": "WUvOByrCTAU8",
        "outputId": "88c3de98-97a6-4fab-9437-56731ede3646",
        "colab": {
          "base_uri": "https://localhost:8080/"
        }
      },
      "source": [
        "n=int(input(\"Ingrese el número de renglones de la figura\"))\n",
        "for i in range(1,n+1):\n",
        "  print(\"\")\n",
        "  for j in range(1,i+1):\n",
        "    print(\"*\", end=\"\")"
      ],
      "execution_count": 1,
      "outputs": [
        {
          "output_type": "stream",
          "text": [
            "Ingrese el número de renglones de la figura8\n",
            "\n",
            "*\n",
            "**\n",
            "***\n",
            "****\n",
            "*****\n",
            "******\n",
            "*******\n",
            "********"
          ],
          "name": "stdout"
        }
      ]
    },
    {
      "cell_type": "markdown",
      "metadata": {
        "id": "4I8kj7mZUguO"
      },
      "source": [
        "9. Escribir una funcion que reciba un n´umero entero positivo y devuelva su factorial"
      ]
    },
    {
      "cell_type": "code",
      "metadata": {
        "id": "5bq7K8leUmwy",
        "outputId": "a594271d-80a1-4ce3-b895-fe8062de2dfe",
        "colab": {
          "base_uri": "https://localhost:8080/"
        }
      },
      "source": [
        "num=int(input(\"Digite un numero\"))\n",
        "factorial=5\n",
        "for i in range(num):\n",
        "  factorial=factorial*num\n",
        "  num=-5\n",
        "  print(\"el factorial es:\",factorial)"
      ],
      "execution_count": 2,
      "outputs": [
        {
          "output_type": "stream",
          "text": [
            "Digite un numero6\n",
            "el factorial es: 30\n",
            "el factorial es: -150\n",
            "el factorial es: 750\n",
            "el factorial es: -3750\n",
            "el factorial es: 18750\n",
            "el factorial es: -93750\n"
          ],
          "name": "stdout"
        }
      ]
    },
    {
      "cell_type": "markdown",
      "metadata": {
        "id": "0iQiZiLEVfy9"
      },
      "source": [
        "10. Escribir una funci´on que calcule el ´area de un c´ırculo y ota que calcule el volumen de un cilindro\n",
        "utilizando la primera funcion."
      ]
    },
    {
      "cell_type": "code",
      "metadata": {
        "id": "kgj8EMtsVlS4",
        "outputId": "ab461407-ac87-4997-e551-a83c2ade8a76",
        "colab": {
          "base_uri": "https://localhost:8080/"
        }
      },
      "source": [
        "print(\"ingrese el radio del circulo\")\n",
        "r=float(input())\n",
        "pi=3.141611\n",
        "A=(pi*(r*r))\n",
        "print(\"El area del circulo es:\", A)\n",
        "h=float(input(\"Ingrese la altura del cilindro: \"))\n",
        "V=A*h\n",
        "print(\"El volumen del cilindro es :\" ,V)"
      ],
      "execution_count": 3,
      "outputs": [
        {
          "output_type": "stream",
          "text": [
            "ingrese el radio del circulo\n",
            "5\n",
            "El area del circulo es: 78.54027500000001\n",
            "Ingrese la altura del cilindro: 8\n",
            "El volumen del cilindro es : 628.3222000000001\n"
          ],
          "name": "stdout"
        }
      ]
    },
    {
      "cell_type": "code",
      "metadata": {
        "id": "vleOnxRiWoTx"
      },
      "source": [
        ""
      ],
      "execution_count": null,
      "outputs": []
    }
  ]
}