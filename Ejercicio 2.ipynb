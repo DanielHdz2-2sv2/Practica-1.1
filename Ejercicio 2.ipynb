{
  "nbformat": 4,
  "nbformat_minor": 0,
  "metadata": {
    "colab": {
      "name": "Tarea.ipynb",
      "provenance": [],
      "collapsed_sections": []
    },
    "kernelspec": {
      "name": "python3",
      "display_name": "Python 3"
    }
  },
  "cells": [
    {
      "cell_type": "markdown",
      "metadata": {
        "id": "6gG4lmEfOccM"
      },
      "source": [
        "Ejercicio 2: Desarrolle un programa en el que el usuario introduzca una cadena de caracteres y un numero entero, despues el programa debe de imprimir la cadena de caracteres tantas veces como el\n",
        "nuemero entero\n",
        "Ejemplo: Si el usuario introduce la cadena de caracteres I <3 IPN y despues introduce 3,la salida del programa debe de ser:\n",
        "\n",
        "I <3 IPN\n",
        "\n",
        "I <3 IPN\n",
        "\n",
        "**I** <3 IPN"
      ]
    },
    {
      "cell_type": "code",
      "metadata": {
        "id": "mwRSqY69KkwB",
        "outputId": "991dac3c-53c2-4921-ce0a-4824ffa2b023",
        "colab": {
          "base_uri": "https://localhost:8080/"
        }
      },
      "source": [
        "Palabra = input(\"Introduzca la palabra: \")\n",
        "Repetir= input(\"Introduzca el numero por el cual se repetira la Palabra: \")\n",
        "Repeticion=(Palabra * 3)\n",
        "print ( Repeticion)"
      ],
      "execution_count": 107,
      "outputs": [
        {
          "output_type": "stream",
          "text": [
            "Introduzca la palabra: Camila Chillona\n",
            "Introduzca el numero por el cual se repetira la Palabra: 2\n",
            "Camila ChillonaCamila ChillonaCamila Chillona\n"
          ],
          "name": "stdout"
        }
      ]
    },
    {
      "cell_type": "code",
      "metadata": {
        "id": "fImuSanwPP9e"
      },
      "source": [
        ""
      ],
      "execution_count": null,
      "outputs": []
    }
  ]
}