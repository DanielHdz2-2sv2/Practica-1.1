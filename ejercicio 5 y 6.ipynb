{
  "nbformat": 4,
  "nbformat_minor": 0,
  "metadata": {
    "colab": {
      "name": "tarea 1.ipynb",
      "provenance": []
    },
    "kernelspec": {
      "name": "python3",
      "display_name": "Python 3"
    }
  },
  "cells": [
    {
      "cell_type": "markdown",
      "metadata": {
        "id": "Fd_A_vO6Fiox"
      },
      "source": [
        "5. Una tienda de juguetes tiene dos productos estrella, un payaso y un juego de mesa, el payaso pesa 150 gr y el juego de mesa pesa 170 gr. Hacer una funci´on que reciba el numero de payasos y el numero de juegos de mesa por pedido, si el peso total del pedido es mayor a 10 kg, debe de mandar error, debe de inidicar por cuantos gramos se paso el envio y debe de regresar False\n",
        "al programa principal."
      ]
    },
    {
      "cell_type": "code",
      "metadata": {
        "id": "_VP6D6wOEUMH",
        "outputId": "c0a146f2-6425-49fe-fdbd-a19a5c28d84b",
        "colab": {
          "base_uri": "https://localhost:8080/"
        }
      },
      "source": [
        "print(\"peso de juguetes en gramos\")\n",
        "mesas=170\n",
        "payasos=170\n",
        "total=100000\n",
        "\n",
        "while total>100000: \n",
        " print(\"ingrese la cantidad de payasos:\")\n",
        "pa=int(input())\n",
        "print(\"ingrese la cantidad de mesas:\")\n",
        "me=int(input())\n",
        "Total=(((payasos*pa)+(mesas*me)))\n",
        "print(\"Los kilogramos son el total:\" ,Total)\n",
        "if Total>=100000:\n",
        "  print(Total<100000)\n",
        "  Residuo=print(\"Se pasa por:\" ,Total-100000)"
      ],
      "execution_count": 6,
      "outputs": [
        {
          "output_type": "stream",
          "text": [
            "peso de juguetes en gramos\n",
            "150\n",
            "ingrese la cantidad de mesas:\n",
            "1000\n",
            "Los kilogramos son el total: 195500\n",
            "False\n",
            "Se pasa por: 95500\n"
          ],
          "name": "stdout"
        }
      ]
    },
    {
      "cell_type": "markdown",
      "metadata": {
        "id": "xJvA2R4yKkoD"
      },
      "source": [
        "6. Suponga que el impuesto que se debe de pagar por el salario ganado est´e regido por la siguiente\n",
        "tabla\n",
        "\n",
        "Ingreso Impuesto\n",
        "Menos de 10 mil 5%\n",
        "\n",
        "Entre 10 mil y 15 mil 10%\n",
        "\n",
        "Entre 15 mil y 20 mil 15%\n",
        "\n",
        "M´as de 20 mil 18%\n",
        "\n",
        "Table 1: Ingreso mensual e impuestos\n",
        "Desarrolle una funci´on que acepte como argumento el salario, y la funci´on debe de mostrar el\n",
        "rango en que se encuentra, y debe de regresar el salario con el descuento del impuesto, si la\n",
        "funci´on se ha podido desarrollar con ´exito, debe de regresar (True.)\n"
      ]
    },
    {
      "cell_type": "code",
      "metadata": {
        "id": "OwthB4N4LGEr",
        "outputId": "43bf1f36-99b8-44f1-8dd1-7053575267bb",
        "colab": {
          "base_uri": "https://localhost:8080/"
        }
      },
      "source": [
        "print(\"Digite su salario:\")\n",
        "salario=int(input())\n",
        "if salario <=20000:\n",
        "  print(\"impuesto correspondiente es del 5%\")\n",
        "  descuento=(salario*0.05)\n",
        "  saldescuento=(salario-descuento)\n",
        "  print(\"Su salario con descuento queda en:\" ,saldescuento)\n",
        "  print(salario <= 20000)\n",
        "elif salario <=25000:\n",
        "  print(\"impuesto correspondiente es del 10%\")\n",
        "  descuento=(salario*0.1)\n",
        "  saldescuento=(salario-descuento)\n",
        "  print(\"Su salario con descuento queda en:\" ,saldescuento)\n",
        "  print(salario <= 25000)\n",
        "elif salario <=18000:\n",
        "  print(\"impuesto correspondiente es del 15%\")\n",
        "  descuento=(salario*0.15)\n",
        "  saldescuento(salario-descuento)\n",
        "  print(\"Su salario con descuento queda en:\" ,saldescuento)\n",
        "  print(salario <= 18000)\n",
        "elif salario <=30000:\n",
        "  print(\"impuesto correspondiente es del 18%\")\n",
        "  descuento=(salario*0.18)\n",
        "  saldescuento(salario-descuento)\n",
        "  print(\"Su salario con descuento queda en:\" ,saldescuento)\n",
        "  print(salario <= 30000)\n",
        "  print(\"Ahorre un poco\")"
      ],
      "execution_count": 10,
      "outputs": [
        {
          "output_type": "stream",
          "text": [
            "Digite su salario:\n",
            "18000\n",
            "impuesto correspondiente es del 5%\n",
            "Su salario con descuento queda en: 17100.0\n",
            "True\n"
          ],
          "name": "stdout"
        }
      ]
    },
    {
      "cell_type": "code",
      "metadata": {
        "id": "jlCZhZjKNo_H"
      },
      "source": [
        ""
      ],
      "execution_count": null,
      "outputs": []
    }
  ]
}